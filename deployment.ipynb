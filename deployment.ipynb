{
 "cells": [
  {
   "cell_type": "markdown",
   "id": "02e1c17c",
   "metadata": {},
   "source": [
    "### Rice Grain Classification Deployment - VGG16 Model"
   ]
  },
  {
   "cell_type": "markdown",
   "id": "484c1660",
   "metadata": {},
   "source": [
    "We utilized the VGG16 model for our rice grain classification project due to its outstanding performance, achieving an impressive accuracy of 98%. This high level of accuracy underscores the model's capability in distinguishing between the five rice varieties: Arborio, Karacadag, Jasmine, Ipsala, and Basmati. Furthermore, the model demonstrated exceptional precision, with an ROC curve score of 1.00 for each of the rice classes, indicating perfect classification capability. Given these results, the VGG16 model was selected for deployment to ensure reliable and accurate predictions in real-world applications."
   ]
  },
  {
   "cell_type": "code",
   "execution_count": 1,
   "id": "469f391d",
   "metadata": {},
   "outputs": [],
   "source": [
    "# Import necessary libraries\n",
    "import pickle\n",
    "import numpy as np\n",
    "import matplotlib.pyplot as plt\n",
    "from PIL import Image\n",
    "from tensorflow.keras.applications.vgg16 import preprocess_input"
   ]
  },
  {
   "cell_type": "code",
   "execution_count": null,
   "id": "3b73fb00",
   "metadata": {},
   "outputs": [],
   "source": [
    "# Load the pickled model\n",
    "with open('model.pkl', 'rb') as file:\n",
    "    model = pickle.load(file)\n",
    "\n",
    "# Function to preprocess the image\n",
    "def preprocess_image(image, target_size):\n",
    "    if image.mode != \"RGB\":\n",
    "        image = image.convert(\"RGB\")\n",
    "    image = image.resize(target_size)\n",
    "    image = np.array(image)\n",
    "    image = preprocess_input(image)  # Use VGG16 preprocessing\n",
    "    image = np.expand_dims(image, axis=0)  # Add batch dimension\n",
    "    return image\n",
    "\n",
    "# Function to predict the class of an image\n",
    "def predict(image_path):\n",
    "    image = Image.open(image_path)\n",
    "    processed_image = preprocess_image(image, target_size=(128, 128))  # Adjust size as needed\n",
    "    prediction = model.predict(processed_image)\n",
    "    return prediction\n",
    "\n",
    "# Example usage\n",
    "image_path = 'path_to_image.jpg'  # Replace with path to your image\n",
    "prediction = predict(image_path)\n",
    "print(\"Prediction:\", prediction)\n",
    "\n",
    "# Optionally, display the image\n",
    "image = Image.open(image_path)\n",
    "plt.imshow(image)\n",
    "plt.show()\n",
    "\n",
    "# Decode the prediction\n",
    "varieties = ['Arborio', 'Karacadag', 'Jasmine', 'Ipsala', 'Basmati']\n",
    "predicted_class = varieties[np.argmax(prediction)]\n",
    "print(f\"Predicted class: {predicted_class}\")"
   ]
  }
 ],
 "metadata": {
  "kernelspec": {
   "display_name": "Python 3 (ipykernel)",
   "language": "python",
   "name": "python3"
  },
  "language_info": {
   "codemirror_mode": {
    "name": "ipython",
    "version": 3
   },
   "file_extension": ".py",
   "mimetype": "text/x-python",
   "name": "python",
   "nbconvert_exporter": "python",
   "pygments_lexer": "ipython3",
   "version": "3.11.5"
  }
 },
 "nbformat": 4,
 "nbformat_minor": 5
}
